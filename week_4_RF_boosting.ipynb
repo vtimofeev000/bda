{
 "cells": [
  {
   "cell_type": "markdown",
   "id": "ec39feba-8dfd-4da8-a833-967d3ade05ae",
   "metadata": {},
   "source": [
    "# Загрузка данных / Data loading\n",
    "Датасет из соревнования https://www.kaggle.com/c/nsu-abmd-2021-e-commerce#. Необходимо предсказать уровень продаж Sales"
   ]
  },
  {
   "cell_type": "code",
   "execution_count": null,
   "id": "4f280b9f-6935-4270-ad2f-7756b3e10c90",
   "metadata": {},
   "outputs": [],
   "source": [
    "import pandas as pd\n",
    "\n",
    "df = pd.read_csv('data/train.csv')\n",
    "\n",
    "df"
   ]
  },
  {
   "cell_type": "markdown",
   "id": "ec7a98e8-9810-4b77-9236-fd3baf70d553",
   "metadata": {},
   "source": [
    "# Исследование данных / Data exploration\n",
    "Data exploration is the first step of data analysis used to explore and visualize data to uncover insights from the start or identify areas or patterns to dig into more. Using interactive dashboards and point-and-click data exploration, users can better understand the bigger picture and get to insights faster."
   ]
  },
  {
   "cell_type": "code",
   "execution_count": null,
   "id": "73e451a5-83d0-4a7f-aa20-5cc1340c1eff",
   "metadata": {},
   "outputs": [],
   "source": [
    "df.info()"
   ]
  },
  {
   "cell_type": "code",
   "execution_count": null,
   "id": "49b2b0ee-92c1-4c4d-b5fb-aa54e0f2a997",
   "metadata": {},
   "outputs": [],
   "source": [
    "df.describe()"
   ]
  },
  {
   "cell_type": "code",
   "execution_count": null,
   "id": "ee5bc503-2501-460b-8855-4b2d6bad7bcd",
   "metadata": {},
   "outputs": [],
   "source": [
    "df.describe(include='O')"
   ]
  },
  {
   "cell_type": "code",
   "execution_count": null,
   "id": "8a30807e",
   "metadata": {},
   "outputs": [],
   "source": [
    "df.Rating = df.Rating.str.replace(',', '.').astype(float)\n",
    "df.Category = df.Category.str[1:]"
   ]
  },
  {
   "cell_type": "code",
   "execution_count": null,
   "id": "d23fb4e7",
   "metadata": {},
   "outputs": [],
   "source": [
    "df.isna().any()"
   ]
  },
  {
   "cell_type": "markdown",
   "id": "48a6a26a-9d3f-4d31-9298-27eb9ac3f31e",
   "metadata": {},
   "source": [
    "## Количественные / Quantitative"
   ]
  },
  {
   "cell_type": "code",
   "execution_count": null,
   "id": "da426409-da56-4e50-a2df-1e797a6bb248",
   "metadata": {
    "tags": []
   },
   "outputs": [],
   "source": [
    "df.hist(figsize=(15, 10), bins=25);"
   ]
  },
  {
   "cell_type": "code",
   "execution_count": null,
   "id": "aeb9f1e1",
   "metadata": {},
   "outputs": [],
   "source": [
    "df[df.Sales>2000].Category.value_counts()"
   ]
  },
  {
   "cell_type": "code",
   "execution_count": null,
   "id": "33b91e80",
   "metadata": {
    "tags": []
   },
   "outputs": [],
   "source": [
    "df[df[\"Final price\"]>1e6].shape"
   ]
  },
  {
   "cell_type": "code",
   "execution_count": null,
   "id": "51146e70",
   "metadata": {},
   "outputs": [],
   "source": [
    "df.boxplot(figsize=(20, 5), rot=45); #.filter(regex=(\"^((?!rice).)*$\"))"
   ]
  },
  {
   "cell_type": "code",
   "execution_count": null,
   "id": "28756930",
   "metadata": {},
   "outputs": [],
   "source": [
    "df[df.Comments>2_000] #Price"
   ]
  },
  {
   "cell_type": "markdown",
   "id": "5e4391c2-4ee7-4848-8c82-c171a0e19191",
   "metadata": {},
   "source": [
    "## Категориальные / Category"
   ]
  },
  {
   "cell_type": "code",
   "execution_count": null,
   "id": "a98153c1-fc6c-4aa0-9002-29eb57c3429a",
   "metadata": {
    "scrolled": true
   },
   "outputs": [],
   "source": [
    "df.select_dtypes('O')"
   ]
  },
  {
   "cell_type": "code",
   "execution_count": null,
   "id": "3c8e791d",
   "metadata": {},
   "outputs": [],
   "source": [
    "import numpy as np\n",
    "\n",
    "\n",
    "pd.set_option('min_rows', 500)\n",
    "np.set_printoptions(edgeitems=100)"
   ]
  },
  {
   "cell_type": "code",
   "execution_count": null,
   "id": "50ad6d08",
   "metadata": {
    "scrolled": true,
    "tags": []
   },
   "outputs": [],
   "source": [
    "for i in df.select_dtypes('O').columns:\n",
    "    print(i, df[i].unique())"
   ]
  },
  {
   "cell_type": "code",
   "execution_count": null,
   "id": "416aa190",
   "metadata": {},
   "outputs": [],
   "source": [
    "#df.Deliveryscheme.value_counts(dropna=False).plot.barh();"
   ]
  },
  {
   "cell_type": "code",
   "execution_count": null,
   "id": "fbb7af69",
   "metadata": {
    "scrolled": true,
    "tags": []
   },
   "outputs": [],
   "source": [
    "df = pd.concat([df, df.full_category.str.split('/', expand=True)\\\n",
    "                .rename(columns={0: 'cat_meta', 1: 'cat_sub', 2: 'cat_sub_sub'})], axis=1)\n",
    "\n",
    "df"
   ]
  },
  {
   "cell_type": "code",
   "execution_count": null,
   "id": "0387b29a",
   "metadata": {},
   "outputs": [],
   "source": [
    "df.cat_meta.value_counts(dropna=False).plot.barh();"
   ]
  },
  {
   "cell_type": "code",
   "execution_count": null,
   "id": "2051f63f",
   "metadata": {},
   "outputs": [],
   "source": [
    "df.boxplot(column='Sales', by='cat_meta', figsize=(5, 10), vert=False);"
   ]
  },
  {
   "cell_type": "code",
   "execution_count": null,
   "id": "7b9796e7",
   "metadata": {},
   "outputs": [],
   "source": [
    "df.cat_sub.value_counts(dropna=False)"
   ]
  },
  {
   "cell_type": "code",
   "execution_count": null,
   "id": "1ee8f90c",
   "metadata": {},
   "outputs": [],
   "source": [
    "df.cat_sub.value_counts(dropna=False, ascending=True).plot.barh(figsize=(5, 50));"
   ]
  },
  {
   "cell_type": "code",
   "execution_count": null,
   "id": "32457f8b",
   "metadata": {},
   "outputs": [],
   "source": [
    "df.cat_sub = df.cat_sub.astype('object')\n",
    "df.cat_sub_sub = df.cat_sub_sub.astype('object')\n",
    "df.Brand = df.Brand.astype('object')"
   ]
  },
  {
   "cell_type": "code",
   "execution_count": null,
   "id": "bda5c9bb",
   "metadata": {},
   "outputs": [],
   "source": [
    "df.loc[df.groupby('cat_sub').Sales.transform('count')<1000, 'cat_sub'] = 'Rare'\n",
    "df.loc[df.groupby('cat_sub_sub').Sales.transform('count')<1000, 'cat_sub_sub'] = 'Rare'"
   ]
  },
  {
   "cell_type": "code",
   "execution_count": null,
   "id": "5aa9292e",
   "metadata": {},
   "outputs": [],
   "source": [
    "df.groupby(['cat_sub'])['Sales'].max().sort_values(ascending=True).plot.barh(figsize=(5, 50));"
   ]
  },
  {
   "cell_type": "code",
   "execution_count": null,
   "id": "9b9d0f0e",
   "metadata": {
    "scrolled": true
   },
   "outputs": [],
   "source": [
    "t = df.groupby(['cat_sub'])['Sales'].median().sort_values(ascending=True)\n",
    "df['cat_sub'] = df['cat_sub'].astype(pd.CategoricalDtype(list(t.index), ordered=True))\n",
    "\n",
    "df.boxplot(column='Sales', by='cat_sub', figsize=(10, 50), vert=False);"
   ]
  },
  {
   "cell_type": "code",
   "execution_count": null,
   "id": "1019d695",
   "metadata": {},
   "outputs": [],
   "source": [
    "df.cat_sub_sub.value_counts(dropna=False)"
   ]
  },
  {
   "cell_type": "code",
   "execution_count": null,
   "id": "843a49f4",
   "metadata": {},
   "outputs": [],
   "source": [
    "df[df.groupby('cat_sub_sub').Sales.transform('count')>1].Sales.value_counts(bins=25)#.cat_sub_sub.value_counts(dropna=False)"
   ]
  },
  {
   "cell_type": "code",
   "execution_count": null,
   "id": "03862237",
   "metadata": {},
   "outputs": [],
   "source": [
    "df[df.groupby('cat_sub_sub').Sales.transform('count')>500]\\\n",
    "    .boxplot(column='Sales', by='cat_sub_sub', figsize=(10, 50), vert=False);"
   ]
  },
  {
   "cell_type": "code",
   "execution_count": null,
   "id": "bfac2107",
   "metadata": {},
   "outputs": [],
   "source": [
    "df.Seller.value_counts(dropna=False)"
   ]
  },
  {
   "cell_type": "code",
   "execution_count": null,
   "id": "d58612b6",
   "metadata": {},
   "outputs": [],
   "source": [
    "df.Brand.value_counts(dropna=False)"
   ]
  },
  {
   "cell_type": "code",
   "execution_count": null,
   "id": "9cacb388",
   "metadata": {},
   "outputs": [],
   "source": [
    "df[df.groupby('Brand').Sales.transform('count')>1].Sales.value_counts(bins=15)#.cat_sub_sub.value_counts(dropna=False)"
   ]
  },
  {
   "cell_type": "code",
   "execution_count": null,
   "id": "d81656d4",
   "metadata": {},
   "outputs": [],
   "source": [
    "df.loc[df.groupby('Brand').Sales.transform('count')<50, 'Brand'] = 'Rare'"
   ]
  },
  {
   "cell_type": "code",
   "execution_count": null,
   "id": "93327830",
   "metadata": {
    "scrolled": true
   },
   "outputs": [],
   "source": [
    "t = df.groupby(['Brand'])['Sales'].median().sort_values()\n",
    "df['Brand'] = df['Brand'].astype(pd.CategoricalDtype(list(t.index), ordered=True))\n",
    "\n",
    "df.boxplot(column='Sales', by='Brand', figsize=(10, 100), vert=False);"
   ]
  },
  {
   "cell_type": "markdown",
   "id": "a2bf3071",
   "metadata": {},
   "source": [
    "# Чистка данных / Data cleaning\n",
    "The main aim of Data Cleaning is to identify and remove errors & duplicate data, in order to create a reliable dataset. This improves the quality of the training data for analytics and enables accurate decision-making."
   ]
  },
  {
   "cell_type": "markdown",
   "id": "49202e7c",
   "metadata": {},
   "source": [
    "## Пустые значения / Missing values"
   ]
  },
  {
   "cell_type": "code",
   "execution_count": null,
   "id": "780087fb",
   "metadata": {},
   "outputs": [],
   "source": [
    "# for i in df.select_dtypes('number').columns:\n",
    "#     print(i, df[i].unique())"
   ]
  },
  {
   "cell_type": "code",
   "execution_count": null,
   "id": "d3fe352f",
   "metadata": {},
   "outputs": [],
   "source": [
    "df.info()"
   ]
  },
  {
   "cell_type": "code",
   "execution_count": null,
   "id": "305e38d2-d64b-4626-9dd5-56848fd192c1",
   "metadata": {},
   "outputs": [],
   "source": [
    "df_nan = df[['Name', 'Brand', 'Seller', 'Comments', 'Final price', 'Max price', 'Min price', 'Average price', 'Sales', 'Days in stock', 'Days with sales', 'Rating', 'Basic Sale', 'Basic Sale Price', 'Base price', 'cat_sub', 'cat_sub_sub']].copy()\n",
    "\n",
    "df_nan.info()"
   ]
  },
  {
   "cell_type": "code",
   "execution_count": null,
   "id": "16e12d97",
   "metadata": {},
   "outputs": [],
   "source": [
    "df_nan.info()"
   ]
  },
  {
   "cell_type": "code",
   "execution_count": null,
   "id": "f6166705-e49d-4920-8c1e-20d1084837a3",
   "metadata": {
    "scrolled": true
   },
   "outputs": [],
   "source": [
    "df_nan.isna().any()"
   ]
  },
  {
   "cell_type": "code",
   "execution_count": null,
   "id": "749cd350",
   "metadata": {},
   "outputs": [],
   "source": [
    "df_nan[df_nan.isna().any(axis=1)]#.style.highlight_null()"
   ]
  },
  {
   "cell_type": "code",
   "execution_count": null,
   "id": "5e5d2f25",
   "metadata": {},
   "outputs": [],
   "source": [
    "df_nan['Average price'].fillna((df_nan['Max price']+df_nan['Min price']) / df_nan.Sales, inplace=True)"
   ]
  },
  {
   "cell_type": "code",
   "execution_count": null,
   "id": "848bb6e2",
   "metadata": {},
   "outputs": [],
   "source": [
    "df_nan.corr().style.background_gradient(cmap='coolwarm')"
   ]
  },
  {
   "cell_type": "code",
   "execution_count": null,
   "id": "22b5c2cd",
   "metadata": {},
   "outputs": [],
   "source": [
    "df['Price diff'] = (df['Max price'] - df['Min price'])"
   ]
  },
  {
   "cell_type": "code",
   "execution_count": null,
   "id": "dded9d35",
   "metadata": {},
   "outputs": [],
   "source": [
    "df.sort_values(by='Price diff', ascending=False)"
   ]
  },
  {
   "cell_type": "code",
   "execution_count": null,
   "id": "f8d11209",
   "metadata": {},
   "outputs": [],
   "source": [
    "df_nan = df_nan.drop(columns=['Max price', 'Min price', 'Average price'])"
   ]
  },
  {
   "cell_type": "markdown",
   "id": "9222483e",
   "metadata": {},
   "source": [
    "## One-hoting"
   ]
  },
  {
   "cell_type": "code",
   "execution_count": null,
   "id": "ea1e3aa4-3fee-4601-954b-a64824c17591",
   "metadata": {},
   "outputs": [],
   "source": [
    "df_one_hoted = df_nan.copy()\n",
    "\n",
    "ONE_HOT_COL = ['Brand', 'cat_sub_sub', 'cat_sub'] \n",
    "\n",
    "temp = pd.get_dummies(df_one_hoted[ONE_HOT_COL], prefix=ONE_HOT_COL, dtype=bool) #, sparse=True\n",
    "\n",
    "df_one_hoted = pd.concat([temp, df_one_hoted.select_dtypes('number'), \n",
    "                            df_one_hoted.select_dtypes('bool')], axis=1)\n",
    "\n",
    "df_nan.shape, df_one_hoted.shape"
   ]
  },
  {
   "cell_type": "code",
   "execution_count": null,
   "id": "a8a6210e",
   "metadata": {},
   "outputs": [],
   "source": [
    "df_one_hoted.info()"
   ]
  },
  {
   "cell_type": "markdown",
   "id": "62df6c4e-7787-4891-9f43-895366b0cae0",
   "metadata": {},
   "source": [
    "# Создание модели / Model creation"
   ]
  },
  {
   "cell_type": "code",
   "execution_count": null,
   "id": "fac02e6f",
   "metadata": {},
   "outputs": [],
   "source": [
    "from sklearn.model_selection import train_test_split\n",
    "\n",
    "\n",
    "df_sampled = df_one_hoted.sample(25_000)\n",
    "\n",
    "X_train, X_test, y_train, y_test = train_test_split(df_sampled.drop(columns='Sales'), df_sampled.Sales)"
   ]
  },
  {
   "cell_type": "code",
   "execution_count": null,
   "id": "45761bd5",
   "metadata": {},
   "outputs": [],
   "source": [
    "df_sampled.info()"
   ]
  },
  {
   "cell_type": "code",
   "execution_count": null,
   "id": "cfd70072",
   "metadata": {},
   "outputs": [],
   "source": [
    "df.Sales.describe()"
   ]
  },
  {
   "cell_type": "code",
   "execution_count": null,
   "id": "d88b9984",
   "metadata": {},
   "outputs": [],
   "source": [
    "%%time\n",
    "from sklearn.ensemble import RandomForestRegressor\n",
    "from sklearn.metrics import mean_absolute_error, mean_squared_error, mean_absolute_percentage_error\n",
    "\n",
    "\n",
    "model = RandomForestRegressor(n_jobs=-1, max_depth=10)\n",
    "model.fit(X_train, y_train)\n",
    "\n",
    "model.feature_names = list(X_train.columns.values)\n",
    "\n",
    "y_pred_train = model.predict(X_train)\n",
    "y_pred_test = model.predict(X_test)\n",
    "\n",
    "print(f'MAE train: {mean_absolute_error(y_train, y_pred_train)}, MAE test: {mean_absolute_error(y_test, y_pred_test)}')\n",
    "print(f'MSE train: {mean_squared_error(y_train, y_pred_train)}, MSE test: {mean_squared_error(y_test, y_pred_test)}')\n",
    "print(f'MAPE train: {mean_absolute_percentage_error(y_train, y_pred_train)}, MAPE test: {mean_absolute_percentage_error(y_test, y_pred_test)}')"
   ]
  },
  {
   "cell_type": "code",
   "execution_count": null,
   "id": "48262386",
   "metadata": {},
   "outputs": [],
   "source": [
    "from sklearn.model_selection import RandomizedSearchCV\n",
    "n_estimators = [int(x) for x in np.linspace(start = 100, stop = 1000, num = 10)]\n",
    "max_features = ['log2', 'sqrt']\n",
    "max_depth = [int(x) for x in np.linspace(start = 1, stop = 15, num = 15)]\n",
    "min_samples_split = [int(x) for x in np.linspace(start = 2, stop = 50, num = 10)]\n",
    "min_samples_leaf = [int(x) for x in np.linspace(start = 2, stop = 50, num = 10)]\n",
    "bootstrap = [True, False]\n",
    "param_dist = {'n_estimators': n_estimators,\n",
    "               'max_features': max_features,\n",
    "               'max_depth': max_depth,\n",
    "               'min_samples_split': min_samples_split,\n",
    "               'min_samples_leaf': min_samples_leaf,\n",
    "               'bootstrap': bootstrap}\n",
    "rs = RandomizedSearchCV(model, \n",
    "                        param_dist, \n",
    "                        n_iter = 100, \n",
    "                        cv = 3, \n",
    "                        verbose = 1, \n",
    "                        n_jobs=-1, \n",
    "                        random_state=0)\n",
    "rs.fit(X_train, y_train)\n",
    "rs.best_params_\n",
    "\n",
    "#{'n_estimators': 600,\n",
    "# 'min_samples_split': 23,\n",
    "# 'min_samples_leaf': 2,\n",
    "# 'max_features': 'sqrt',\n",
    "# 'max_depth': 15,\n",
    "# 'bootstrap': False}"
   ]
  },
  {
   "cell_type": "code",
   "execution_count": null,
   "id": "be281131",
   "metadata": {},
   "outputs": [],
   "source": [
    "rs_df = pd.DataFrame(rs.cv_results_).sort_values('rank_test_score').reset_index(drop=True)\n",
    "rs_df = rs_df.drop([\n",
    "            'mean_fit_time', \n",
    "            'std_fit_time', \n",
    "            'mean_score_time',\n",
    "            'std_score_time', \n",
    "            'params', \n",
    "            'split0_test_score', \n",
    "            'split1_test_score', \n",
    "            'split2_test_score', \n",
    "            'std_test_score'],\n",
    "            axis=1)\n",
    "rs_df.head(10)"
   ]
  },
  {
   "cell_type": "code",
   "execution_count": null,
   "id": "a1af5108",
   "metadata": {},
   "outputs": [],
   "source": [
    "from sklearn.model_selection import GridSearchCV\n",
    "n_estimators = [600,400,700]\n",
    "max_features = ['sqrt']\n",
    "max_depth = [15,14,14]\n",
    "min_samples_split = [23,12]\n",
    "min_samples_leaf = [2,7]\n",
    "bootstrap = [False]\n",
    "param_grid = {'n_estimators': n_estimators,\n",
    "               'max_features': max_features,\n",
    "               'max_depth': max_depth,\n",
    "               'min_samples_split': min_samples_split,\n",
    "               'min_samples_leaf': min_samples_leaf,\n",
    "               'bootstrap': bootstrap}\n",
    "gs = GridSearchCV(model, param_grid, cv = 3, verbose = 1, n_jobs=-1)\n",
    "gs.fit(X_train, y_train)\n",
    "\n",
    "rfc_3 = gs.best_estimator_\n",
    "gs.best_params_"
   ]
  },
  {
   "cell_type": "code",
   "execution_count": null,
   "id": "39285d6f",
   "metadata": {},
   "outputs": [],
   "source": [
    "#{'n_estimators': 600,\n",
    "# 'min_samples_split': 23,\n",
    "# 'min_samples_leaf': 2,\n",
    "# 'max_features': 'sqrt',\n",
    "# 'max_depth': 15,\n",
    "# 'bootstrap': False}\n",
    "\n",
    "#{'bootstrap': False,\n",
    "# 'max_depth': 15,\n",
    "# 'max_features': 'sqrt',\n",
    "# 'min_samples_leaf': 2,\n",
    "# 'min_samples_split': 12,\n",
    "# 'n_estimators': 400}\n",
    "\n",
    "#model = RandomForestRegressor(n_estimators=400, min_samples_split=12, min_samples_leaf=2, max_features=\"sqrt\", n_jobs=-1, max_depth=15, bootstrap=False)\n",
    "#model.fit(X_train, y_train)\n",
    "#\n",
    "#model.feature_names = list(X_train.columns.values)\n",
    "#\n",
    "#y_pred_train = model.predict(X_train)\n",
    "#y_pred_test = model.predict(X_test)\n",
    "#\n",
    "#print(f'MAE train: {mean_absolute_error(y_train, y_pred_train)}, MAE test: {mean_absolute_error(y_test, y_pred_test)}')\n",
    "#print(f'MSE train: {mean_squared_error(y_train, y_pred_train)}, MSE test: {mean_squared_error(y_test, y_pred_test)}')\n",
    "#print(f'MAPE train: {mean_absolute_percentage_error(y_train, y_pred_train)}, MAPE test: {mean_absolute_percentage_error(y_test, y_pred_test)}')"
   ]
  },
  {
   "cell_type": "code",
   "execution_count": null,
   "id": "ddfdfaba",
   "metadata": {
    "scrolled": true
   },
   "outputs": [],
   "source": [
    "list(zip(y_pred_train, y_train))"
   ]
  },
  {
   "cell_type": "code",
   "execution_count": null,
   "id": "50a40ce2",
   "metadata": {},
   "outputs": [],
   "source": [
    "(y_pred_train - y_train).value_counts(bins=25)#.hist(bins=100)"
   ]
  },
  {
   "cell_type": "code",
   "execution_count": null,
   "id": "7910cab9",
   "metadata": {},
   "outputs": [],
   "source": [
    "from bokeh.palettes import Colorblind8\n",
    "\n",
    "pd.Series(model.feature_importances_, index=X_test.columns)\\\n",
    "    .sort_values()[-25:].plot.barh(color=Colorblind8, figsize=(15, 5));"
   ]
  },
  {
   "cell_type": "code",
   "execution_count": null,
   "id": "494acd82",
   "metadata": {},
   "outputs": [],
   "source": [
    "import matplotlib.pyplot as plt\n",
    "from sklearn.inspection import permutation_importance\n",
    "\n",
    "\n",
    "result = permutation_importance(model, X_test, y_test, n_repeats=3, n_jobs=-1)\n",
    "\n",
    "sorted_idx = result.importances_mean.argsort()"
   ]
  },
  {
   "cell_type": "code",
   "execution_count": null,
   "id": "fe156557-11f7-41c8-9497-2e4e0e4a1116",
   "metadata": {},
   "outputs": [],
   "source": [
    "plt.boxplot(result.importances[sorted_idx][-10:].T, vert=False, labels=X_test.columns[sorted_idx][-10:]);"
   ]
  },
  {
   "cell_type": "code",
   "execution_count": null,
   "id": "2a92b22d-50ae-47e1-98af-16f02f7339de",
   "metadata": {},
   "outputs": [],
   "source": [
    "plt.boxplot(result.importances[sorted_idx][:10].T, vert=False, labels=X_test.columns[sorted_idx][:10]);"
   ]
  },
  {
   "cell_type": "code",
   "execution_count": null,
   "id": "92f9be79",
   "metadata": {},
   "outputs": [],
   "source": [
    "from sklearn.feature_selection import RFE\n",
    "\n",
    "\n",
    "rfe = RFE(model, n_features_to_select=15)\n",
    "rfe.fit(X_test, y_test)\n",
    "\n",
    "display(rfe.score(X_test, y_test))\n",
    "\n",
    "pd.DataFrame({'support': rfe.support_, 'rank': rfe.ranking_}, index=X_test.columns).sort_values(by='rank')"
   ]
  },
  {
   "cell_type": "code",
   "execution_count": null,
   "id": "f39b30b3",
   "metadata": {},
   "outputs": [],
   "source": [
    "df_final = pd.read_csv('data/test.csv')\n",
    "\n",
    "df_final.Rating = df_final.Rating.str.replace(',', '.').astype(float)\n",
    "df_final.Category = df_final.Category.str[1:]\n",
    "\n",
    "df_final = pd.concat([df_final, df_final.Category.str.split('/', expand=True)\\\n",
    "                .rename(columns={0: 'cat_meta', 1: 'cat_sub', 2: 'cat_sub_sub'})], axis=1)\n",
    "\n",
    "df_final.cat_sub = df_final.cat_sub.astype('object')\n",
    "df_final.cat_sub_sub = df_final.cat_sub_sub.astype('object')\n",
    "df_final.Brand = df_final.Brand.astype('object')\n",
    "\n",
    "\n",
    "\n",
    "df_final_nan = df_final[['Name', 'Seller', 'Brand', 'Comments', 'Final price', 'Max price', 'Min price', 'Average price', \n",
    "'Days in stock', 'Days with sales', 'Rating', 'Basic Sale', 'Basic Sale Price', 'Base price', 'cat_sub', 'cat_sub_sub']].copy()\n",
    "\n",
    "df_final_nan[df_final_nan.isna().any(axis=1)]#.style.highlight_null()\n",
    "\n",
    "df_final_nan.corr().style.background_gradient(cmap='coolwarm')\n",
    "\n",
    "df_final['Price diff'] = (df_final['Max price'] - df_final['Min price'])\n",
    "\n",
    "df_final.sort_values(by='Price diff', ascending=False)\n",
    "\n",
    "df_final_nan = df_final_nan.drop(columns=['Max price', 'Min price', 'Average price'])\n",
    "\n",
    "df_final_one_hoted = df_final_nan.copy()\n",
    "\n",
    "ONE_HOT_COL = ['Seller', 'Brand', 'cat_sub_sub', 'cat_sub'] \n",
    "\n",
    "temp = pd.get_dummies(df_final_one_hoted[ONE_HOT_COL], prefix=ONE_HOT_COL, dtype=bool) #, sparse=True\n",
    "\n",
    "df_final_one_hoted = pd.concat([temp, df_final_one_hoted.select_dtypes('number'), \n",
    "                            df_final_one_hoted.select_dtypes('bool')], axis=1)"
   ]
  },
  {
   "cell_type": "code",
   "execution_count": null,
   "id": "4ce3e2b0",
   "metadata": {},
   "outputs": [],
   "source": [
    "df_final_one_hoted[\"Brand_Rare\"] = False\n",
    "df_final_one_hoted[\"cat_sub_Rare\"] = False"
   ]
  },
  {
   "cell_type": "code",
   "execution_count": null,
   "id": "585d88c5",
   "metadata": {},
   "outputs": [],
   "source": [
    "df_final_one_hoted[\"cat_sub_sub_Rare\"] = False\n",
    "df_final_one_hoted[\"cat_sub_sub_Измельчение и смешивание\"] = False\n",
    "df_final_one_hoted[\"cat_sub_sub_Медицинские приборы\"] = False\n",
    "df_final_one_hoted[\"cat_sub_sub_Приготовление блюд\"] = False\n",
    "df_final_one_hoted[\"cat_sub_sub_Приготовление напитков\"] = False\n",
    "df_final_one_hoted[\"cat_sub_sub_Фены, приборы для укладки\"] = False\n",
    "df_final_one_hoted[\"cat_sub_Садовая техника\"] = False\n",
    "df_final_one_hoted[\"cat_sub_Красота и здоровье\"] = False\n",
    "df_final_one_hoted[\"cat_sub_Техника для дома\"] = False\n",
    "df_final_one_hoted[\"cat_sub_Техника для кухни\"] = False"
   ]
  },
  {
   "cell_type": "code",
   "execution_count": null,
   "id": "873c5ee5",
   "metadata": {},
   "outputs": [],
   "source": [
    "scores = rfe.predict(df_final_one_hoted[model.feature_names])"
   ]
  },
  {
   "cell_type": "code",
   "execution_count": null,
   "id": "a67e53d8",
   "metadata": {},
   "outputs": [],
   "source": [
    "print(\"Id,Expected\")\n",
    "for i in range(len(scores)):\n",
    "    print(i, scores[i], sep=',')"
   ]
  }
 ],
 "metadata": {
  "kernelspec": {
   "display_name": "Python 3",
   "language": "python",
   "name": "python3"
  },
  "language_info": {
   "codemirror_mode": {
    "name": "ipython",
    "version": 3
   },
   "file_extension": ".py",
   "mimetype": "text/x-python",
   "name": "python",
   "nbconvert_exporter": "python",
   "pygments_lexer": "ipython3",
   "version": "3.9.13"
  },
  "vscode": {
   "interpreter": {
    "hash": "2049d4662b36ffc680750395626bf352babae5bb53c0142438632ce07f7d4e03"
   }
  }
 },
 "nbformat": 4,
 "nbformat_minor": 5
}
